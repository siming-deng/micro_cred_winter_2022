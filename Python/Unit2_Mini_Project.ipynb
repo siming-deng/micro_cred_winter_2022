{
  "nbformat": 4,
  "nbformat_minor": 0,
  "metadata": {
    "colab": {
      "name": "Unit2_Mini_Project.ipynb",
      "provenance": [],
      "collapsed_sections": [],
      "include_colab_link": true
    },
    "kernelspec": {
      "name": "python3",
      "display_name": "Python 3"
    }
  },
  "cells": [
    {
      "cell_type": "markdown",
      "metadata": {
        "id": "view-in-github",
        "colab_type": "text"
      },
      "source": [
        "<a href=\"https://colab.research.google.com/github/siming-deng/micro_cred_winter_2022/blob/main/Unit2_Mini_Project.ipynb\" target=\"_parent\"><img src=\"https://colab.research.google.com/assets/colab-badge.svg\" alt=\"Open In Colab\"/></a>"
      ]
    },
    {
      "cell_type": "markdown",
      "metadata": {
        "id": "Vgs8Kp4TidFQ"
      },
      "source": [
        "# Intrdouction to Python - Mini Project"
      ]
    },
    {
      "cell_type": "markdown",
      "metadata": {
        "id": "_Hq7Ny79iwgD"
      },
      "source": [
        "#Python Project – Odd or Even\n",
        "\n",
        "Ask the user for a number. Depending on whether the number is even or odd, print out an appropriate message to the user. Hint: how does an even / odd number react differently when divided by 2?\n"
      ]
    },
    {
      "cell_type": "code",
      "metadata": {
        "id": "lotvpVpvlKsR",
        "colab": {
          "base_uri": "https://localhost:8080/"
        },
        "outputId": "fa2886db-772b-4448-b705-901eb201e77a"
      },
      "source": [
        "# ask user to input a number\n",
        "num = input('Please enter a number.')"
      ],
      "execution_count": 11,
      "outputs": [
        {
          "name": "stdout",
          "output_type": "stream",
          "text": [
            "Please enter a number.5.5\n"
          ]
        }
      ]
    },
    {
      "cell_type": "code",
      "metadata": {
        "id": "oNXY-CfrlLbE",
        "colab": {
          "base_uri": "https://localhost:8080/"
        },
        "outputId": "58bf52d1-3c10-4139-d32c-eca412d9d191"
      },
      "source": [
        "# try the first block of code that identify whether a number is even or odd\n",
        "try:\n",
        "  if int(num) % 2 == 0:\n",
        "    print('This is an even number: ')\n",
        "  else:\n",
        "    print('This is an odd number.')\n",
        "# if the above code does not run, print the following message to inform the user\n",
        "except:\n",
        "  print('Please enter a numerical value and integer number.')\n"
      ],
      "execution_count": 12,
      "outputs": [
        {
          "output_type": "stream",
          "name": "stdout",
          "text": [
            "Please enter a numerical value or integer number.\n"
          ]
        }
      ]
    },
    {
      "cell_type": "markdown",
      "metadata": {
        "id": "io_27RSlizno"
      },
      "source": [
        "# Bonus:\n",
        "\n",
        "1.\tIf the number is a multiple of 4, print out a different message.\n",
        "\n",
        "2.\tAsk the user for two numbers: one number to check (call it num) and one number to divide by (check). If check divides evenly into num, tell that to the user. If not, print a different appropriate message.\n"
      ]
    },
    {
      "cell_type": "code",
      "metadata": {
        "id": "Dh1o5cAylSHB",
        "colab": {
          "base_uri": "https://localhost:8080/"
        },
        "outputId": "68f6a30f-fd56-4a54-856a-5632ba3eb684"
      },
      "source": [
        "#1 ask user to input a number\n",
        "num4 = input('Please enter a number: ')"
      ],
      "execution_count": 15,
      "outputs": [
        {
          "name": "stdout",
          "output_type": "stream",
          "text": [
            "Please enter a number: 12\n"
          ]
        }
      ]
    },
    {
      "cell_type": "code",
      "metadata": {
        "id": "vs8ppR-wlSKL",
        "colab": {
          "base_uri": "https://localhost:8080/"
        },
        "outputId": "c87390e1-802a-43c8-ed09-16ffb9427107"
      },
      "source": [
        "# identify whether the input is divisible by 4\n",
        "try:\n",
        "  if int(num4) % 4 == 0:\n",
        "    print('This number is divisible by four.')\n",
        "  else:\n",
        "    print('This number is not divisible by four.')\n",
        "# if the above code does not run, print the following message to inform the user\n",
        "except:\n",
        "  print('Please enter a numerical value and integer number.')"
      ],
      "execution_count": 17,
      "outputs": [
        {
          "output_type": "stream",
          "name": "stdout",
          "text": [
            "This number is divisible by four.\n"
          ]
        }
      ]
    },
    {
      "cell_type": "code",
      "metadata": {
        "id": "5mkKtxzunuqc",
        "colab": {
          "base_uri": "https://localhost:8080/"
        },
        "outputId": "bfbf6969-0950-4698-e8c4-379d9684aa90"
      },
      "source": [
        "#2 ask the user to input a number and another number to check if they are divisible\n",
        "num1 = input('Please enter a number: ')\n",
        "check = input('Please enter a number to check if the first number is divisible by this number: ')"
      ],
      "execution_count": 18,
      "outputs": [
        {
          "name": "stdout",
          "output_type": "stream",
          "text": [
            "Please enter a number: 25\n",
            "Please enter a number to check if the first number is divisible by this number: 5\n"
          ]
        }
      ]
    },
    {
      "cell_type": "code",
      "metadata": {
        "id": "rmfPnI5onutd",
        "colab": {
          "base_uri": "https://localhost:8080/"
        },
        "outputId": "bf6b3c36-317c-43bb-ba01-2c515212278a"
      },
      "source": [
        "# check if the first number is divisible by the second number\n",
        "try:\n",
        "  if int(num1) % int(check) == 0:\n",
        "    print(f'{num1} is divisible by {check}.')\n",
        "  else:\n",
        "    print(f'{num1} is not divisible by {check}.')\n",
        "# if the above code does not run, print the following message to inform the user\n",
        "except:\n",
        "  print('Please enter a numerical value and integer number.')"
      ],
      "execution_count": 19,
      "outputs": [
        {
          "output_type": "stream",
          "name": "stdout",
          "text": [
            "25 is divisible by 5.\n"
          ]
        }
      ]
    }
  ]
}
