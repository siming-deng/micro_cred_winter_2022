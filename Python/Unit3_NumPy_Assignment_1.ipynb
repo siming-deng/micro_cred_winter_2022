{
  "nbformat": 4,
  "nbformat_minor": 0,
  "metadata": {
    "colab": {
      "name": "Unit3_NumPy_Assignment_1.ipynb",
      "provenance": [],
      "collapsed_sections": [],
      "include_colab_link": true
    },
    "kernelspec": {
      "name": "python3",
      "display_name": "Python 3"
    }
  },
  "cells": [
    {
      "cell_type": "markdown",
      "metadata": {
        "id": "view-in-github",
        "colab_type": "text"
      },
      "source": [
        "<a href=\"https://colab.research.google.com/github/siming-deng/micro_cred_winter_2022/blob/main/Unit3_NumPy_Assignment_1.ipynb\" target=\"_parent\"><img src=\"https://colab.research.google.com/assets/colab-badge.svg\" alt=\"Open In Colab\"/></a>"
      ]
    },
    {
      "cell_type": "markdown",
      "metadata": {
        "id": "Vgs8Kp4TidFQ"
      },
      "source": [
        "# Unit 3 - Advanced Python - NumPy - Assingment #1  "
      ]
    },
    {
      "cell_type": "markdown",
      "metadata": {
        "id": "_Hq7Ny79iwgD"
      },
      "source": [
        "## 1. Environment Set up"
      ]
    },
    {
      "cell_type": "code",
      "metadata": {
        "id": "MiB4JCOP5FdJ"
      },
      "source": [
        "import numpy as np"
      ],
      "execution_count": 1,
      "outputs": []
    },
    {
      "cell_type": "code",
      "metadata": {
        "id": "lotvpVpvlKsR"
      },
      "source": [
        "#Dataset from summer Olympic London, year 2012\n",
        "np_olympic_country = np.array(['GBR','China','RUS','US','KOR','JPN','GER'])\n",
        "np_olympic_country_Gold = np.array([29,38,24,46,13,7,11])\n",
        "np_olympic_country_Silver = np.array([17,28,25,28,8,14,11])\n",
        "np_olympic_country_Bronze = np.array([19,22,32,29,7,17,14])"
      ],
      "execution_count": 2,
      "outputs": []
    },
    {
      "cell_type": "markdown",
      "metadata": {
        "id": "io_27RSlizno"
      },
      "source": [
        "## 2.\tFind country with maximum gold"
      ]
    },
    {
      "cell_type": "code",
      "metadata": {
        "id": "Dh1o5cAylSHB",
        "colab": {
          "base_uri": "https://localhost:8080/"
        },
        "outputId": "77e42437-cac0-4036-a3a3-7fcd5a44d78d"
      },
      "source": [
        "# finding the index with maximum gold medals\n",
        "maximum_gold = np.where(np_olympic_country_Gold == np.max(np_olympic_country_Gold))\n",
        "\n",
        "# print out message of the maximum number of gold medals and the index\n",
        "print('Maximum number of gold medals is:', np.max(np_olympic_country_Gold))\n",
        "print('index number of maximum gold mendals is:', maximum_gold[0])"
      ],
      "execution_count": 3,
      "outputs": [
        {
          "output_type": "stream",
          "name": "stdout",
          "text": [
            "Maximum number of gold medals is: 46\n",
            "index number of maximum gold mendals is: [3]\n"
          ]
        }
      ]
    },
    {
      "cell_type": "code",
      "metadata": {
        "id": "vs8ppR-wlSKL",
        "colab": {
          "base_uri": "https://localhost:8080/"
        },
        "outputId": "ca9e3a2c-7cc7-4f5d-c594-1de2f83d1a9c"
      },
      "source": [
        "# print out the country with maximum number of gold medals\n",
        "print('The country with maximum number of gold medals is:', np_olympic_country[maximum_gold])"
      ],
      "execution_count": 4,
      "outputs": [
        {
          "output_type": "stream",
          "name": "stdout",
          "text": [
            "The country with maximum number of gold medals is: ['US']\n"
          ]
        }
      ]
    },
    {
      "cell_type": "markdown",
      "metadata": {
        "id": "DAW8m8IQjRyR"
      },
      "source": [
        "## 3.\tFind countries with more than 20 gold medals"
      ]
    },
    {
      "cell_type": "code",
      "metadata": {
        "id": "guULMEhrjYtT",
        "colab": {
          "base_uri": "https://localhost:8080/"
        },
        "outputId": "339c1301-3a54-4af9-df0b-3eae188ed007"
      },
      "source": [
        "# identify which element in the array satisfy the condition\n",
        "more_than_20_gold_medals = np_olympic_country_Gold > 20\n",
        "print(more_than_20_gold_medals)"
      ],
      "execution_count": 5,
      "outputs": [
        {
          "output_type": "stream",
          "name": "stdout",
          "text": [
            "[ True  True  True  True False False False]\n"
          ]
        }
      ]
    },
    {
      "cell_type": "code",
      "metadata": {
        "id": "cv946RaOjw-G",
        "colab": {
          "base_uri": "https://localhost:8080/"
        },
        "outputId": "30648bc0-a59d-4d16-a42f-96075023badb"
      },
      "source": [
        "# print the number of gold medals greater than 20\n",
        "print('Number of gold medals greater than 20 are:', np_olympic_country_Gold[more_than_20_gold_medals])"
      ],
      "execution_count": 6,
      "outputs": [
        {
          "output_type": "stream",
          "name": "stdout",
          "text": [
            "Number of gold medals greater than 20 are: [29 38 24 46]\n"
          ]
        }
      ]
    },
    {
      "cell_type": "code",
      "metadata": {
        "id": "4oNKGU70llVg",
        "colab": {
          "base_uri": "https://localhost:8080/"
        },
        "outputId": "695efb61-c4be-447b-d5de-d2bcf2f52b33"
      },
      "source": [
        "# finding the indexes of gold medals greater than 20\n",
        "index = np.where(more_than_20_gold_medals)\n",
        "\n",
        "# print out the countries corresponding to the indexes\n",
        "print('Countries with more than 20 gold medals are:', np_olympic_country[index])"
      ],
      "execution_count": 7,
      "outputs": [
        {
          "output_type": "stream",
          "name": "stdout",
          "text": [
            "Countries with more than 20 gold medals are: ['GBR' 'China' 'RUS' 'US']\n"
          ]
        }
      ]
    }
  ]
}
