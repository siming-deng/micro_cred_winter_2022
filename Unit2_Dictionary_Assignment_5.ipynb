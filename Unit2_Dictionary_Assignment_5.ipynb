{
  "nbformat": 4,
  "nbformat_minor": 0,
  "metadata": {
    "colab": {
      "name": "Unit2_Dictionary_Assignment_5.ipynb",
      "provenance": [],
      "collapsed_sections": [],
      "include_colab_link": true
    },
    "kernelspec": {
      "name": "python3",
      "display_name": "Python 3"
    }
  },
  "cells": [
    {
      "cell_type": "markdown",
      "metadata": {
        "id": "view-in-github",
        "colab_type": "text"
      },
      "source": [
        "<a href=\"https://colab.research.google.com/github/siming-deng/micro_cred_winter_2022/blob/main/Unit2_Dictionary_Assignment_5.ipynb\" target=\"_parent\"><img src=\"https://colab.research.google.com/assets/colab-badge.svg\" alt=\"Open In Colab\"/></a>"
      ]
    },
    {
      "cell_type": "markdown",
      "metadata": {
        "id": "Vgs8Kp4TidFQ"
      },
      "source": [
        "# Intrdouction to Python - Dictionary - Assignment #5 "
      ]
    },
    {
      "cell_type": "markdown",
      "metadata": {
        "id": "_Hq7Ny79iwgD"
      },
      "source": [
        "## 1.\tCreate a simple dictionary that stores 2 variables, for example: first and last name."
      ]
    },
    {
      "cell_type": "code",
      "metadata": {
        "id": "lotvpVpvlKsR"
      },
      "source": [
        "names = {'first_name': 'Siming', 'last_name': 'Deng'}"
      ],
      "execution_count": null,
      "outputs": []
    },
    {
      "cell_type": "markdown",
      "metadata": {
        "id": "io_27RSlizno"
      },
      "source": [
        "## 2.\tPrint out those variables stored in your previous dictionary. "
      ]
    },
    {
      "cell_type": "code",
      "metadata": {
        "id": "Dh1o5cAylSHB",
        "colab": {
          "base_uri": "https://localhost:8080/"
        },
        "outputId": "10899223-aff0-41a7-bdbc-cc085647e293"
      },
      "source": [
        "for i in names:\n",
        "  print(i, names[i])"
      ],
      "execution_count": null,
      "outputs": [
        {
          "output_type": "stream",
          "name": "stdout",
          "text": [
            "first_name Siming\n",
            "last_name Deng\n"
          ]
        }
      ]
    },
    {
      "cell_type": "markdown",
      "metadata": {
        "id": "DAW8m8IQjRyR"
      },
      "source": [
        "## 3.\tAdd a message to those variables on printing: for example: “Hello, firstname lastname!”"
      ]
    },
    {
      "cell_type": "code",
      "metadata": {
        "id": "guULMEhrjYtT",
        "colab": {
          "base_uri": "https://localhost:8080/"
        },
        "outputId": "64079d26-d9b1-43fe-ac22-4cd0e0706d62"
      },
      "source": [
        "print('Hello,', names['first_name'], names['last_name'], '!')"
      ],
      "execution_count": null,
      "outputs": [
        {
          "output_type": "stream",
          "name": "stdout",
          "text": [
            "Hello, Siming Deng !\n"
          ]
        }
      ]
    },
    {
      "cell_type": "markdown",
      "metadata": {
        "id": "dpa_YOt4jXyo"
      },
      "source": [
        "## 4.\tCreate a dictionary that holds 2 key: value pairs:\n",
        "\n",
        "a.\tLook through your dictionary and print each pair,\n"
      ]
    },
    {
      "cell_type": "code",
      "metadata": {
        "id": "pltxfnh3iJLW"
      },
      "source": [
        "dic = {'apple': 30, 'Orange': 50}"
      ],
      "execution_count": null,
      "outputs": []
    },
    {
      "cell_type": "code",
      "metadata": {
        "id": "PzH5Rcn-jwPL",
        "colab": {
          "base_uri": "https://localhost:8080/"
        },
        "outputId": "732abe03-fc5f-4146-d564-ed9899ca557b"
      },
      "source": [
        "for i in dic:\n",
        "  print(i, dic[i], 'units.')"
      ],
      "execution_count": null,
      "outputs": [
        {
          "output_type": "stream",
          "name": "stdout",
          "text": [
            "apple 30 units.\n",
            "Orange 50 units.\n"
          ]
        }
      ]
    },
    {
      "cell_type": "markdown",
      "source": [
        "5. Create a nested dictionary containing three dictionaries – these \n",
        "dictionaries could be anything (favorite pets, travel locations, etc.)\n",
        "a. Loop through the dictionaries and print a message for each"
      ],
      "metadata": {
        "id": "0jz1QhAkCQuL"
      }
    },
    {
      "cell_type": "code",
      "source": [
        "d = {\n",
        "    'OrderID': {\n",
        "                123: {'Product': 'Burger', 'Beverage':'Coke'},\n",
        "                321: {'Product': 'Fries', 'Beverage': 'Orange Juice'},\n",
        "                923: {'Product': 'Takoyaki', 'Beverage': 'Milk Tea'}\n",
        "    },\n",
        "     'Price': {'Burger': 5.99, 'Fries': 2.99, 'Coke': 1.99, \n",
        "               'Orange Juice': 1.99, 'Takoyaki': 6.99, 'Milk Tea': 5.99}\n",
        "}"
      ],
      "metadata": {
        "id": "2BHjhUFICZrv"
      },
      "execution_count": 46,
      "outputs": []
    },
    {
      "cell_type": "code",
      "source": [
        "for i in d['OrderID']:\n",
        "  print('Order', i, 'ordered', d['OrderID'][i]['Product'], 'and', d['OrderID'][i]['Beverage'])\n"
      ],
      "metadata": {
        "colab": {
          "base_uri": "https://localhost:8080/"
        },
        "id": "hxRLR_boEfsM",
        "outputId": "57f81e24-fa5b-4187-ee8c-0291c6b820ed"
      },
      "execution_count": 47,
      "outputs": [
        {
          "output_type": "stream",
          "name": "stdout",
          "text": [
            "Order 123 ordered Burger and Coke\n",
            "Order 321 ordered Fries and Orange Juice\n",
            "Order 923 ordered Takoyaki and Milk Tea\n"
          ]
        }
      ]
    },
    {
      "cell_type": "code",
      "source": [
        "print('MENU')\n",
        "for i in d['Price']:\n",
        "  print(i, d['Price'][i])"
      ],
      "metadata": {
        "colab": {
          "base_uri": "https://localhost:8080/"
        },
        "id": "d6aElAfQGv6D",
        "outputId": "956dcb59-246c-43c4-bf58-5ebb82fef6f0"
      },
      "execution_count": 48,
      "outputs": [
        {
          "output_type": "stream",
          "name": "stdout",
          "text": [
            "MENU\n",
            "Burger 5.99\n",
            "Fries 2.99\n",
            "Coke 1.99\n",
            "Orange Juice 1.99\n",
            "Takoyaki 6.99\n",
            "Milk Tea 5.99\n"
          ]
        }
      ]
    }
  ]
}